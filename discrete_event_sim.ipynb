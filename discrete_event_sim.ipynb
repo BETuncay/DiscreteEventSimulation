{
 "cells": [
  {
   "cell_type": "code",
   "execution_count": 60,
   "id": "c092dd1d-943e-4050-bd19-c3f4c30bf63e",
   "metadata": {},
   "outputs": [],
   "source": [
    "# required imports\n",
    "import numpy as np\n",
    "from numpy.random import Generator, PCG64\n",
    "import matplotlib.pyplot as plt"
   ]
  },
  {
   "cell_type": "code",
   "execution_count": 61,
   "id": "1435ca79-cfd4-4158-979d-978cccb7a769",
   "metadata": {
    "tags": []
   },
   "outputs": [],
   "source": [
    "# randomness parameters\n",
    "seed = 1234\n",
    "rng = Generator(PCG64(seed=seed))"
   ]
  },
  {
   "cell_type": "code",
   "execution_count": 62,
   "id": "d2a8bfdd-26e3-43f7-8b4c-f45dbd8465ef",
   "metadata": {
    "tags": []
   },
   "outputs": [],
   "source": [
    "# simulation parameters\n",
    "n = 30\n",
    "servers = 1\n",
    "arrival_rate = 1 / 6\n",
    "service_rate = 1 / 4\n",
    "arrival_distribution = rng.exponential\n",
    "service_distribution = rng.exponential"
   ]
  },
  {
   "cell_type": "code",
   "execution_count": 66,
   "id": "b92ec147-a0fb-4ed1-acb4-c4c61347966e",
   "metadata": {
    "tags": []
   },
   "outputs": [
    {
     "data": {
      "image/png": "[encoded data removed]",
      "text/plain": [
       "<Figure size 640x480 with 2 Axes>"
      ]
     },
     "metadata": {},
     "output_type": "display_data"
    }
   ],
   "source": [
    "fig, ax = plt.subplots(1,2)\n",
    "ax[0].hist(arrival_distribution(scale=arrival_rate, size=n), bins='auto') \n",
    "ax[1].hist(service_distribution(scale=service_rate, size=n), bins='auto') \n",
    "plt.show()"
   ]
  },
  {
   "cell_type": "code",
   "execution_count": 64,
   "id": "94ab9890-ae4d-4891-95dd-614d9c384300",
   "metadata": {
    "tags": []
   },
   "outputs": [],
   "source": [
    "class Simulation:\n",
    "    def __init__(self, n, arrival_distribution, arrival_rate, service_distribution, service_rate, precision=3):\n",
    "        # distributions\n",
    "        self.arrival_distribution = arrival_distribution\n",
    "        self.service_distribution = service_distribution\n",
    "        self.arrival_rate = arrival_rate\n",
    "        self.service_rate = service_rate\n",
    "        \n",
    "        # event_list\n",
    "        self.next_arrival_time = np.inf\n",
    "        self.next_departure = np.inf\n",
    "        \n",
    "        # system state\n",
    "        self.n = n\n",
    "        self.clock = 0\n",
    "        self.system = []\n",
    "        self.queue = []\n",
    "        self.server_status = 0\n",
    "        self.precision = precision\n",
    "        \n",
    "        # statistical counters\n",
    "        self.number_served = 0\n",
    "        self.total_waiting_time = 0\n",
    "        self.total_system_time = 0 # delay/response time\n",
    "        self.area_under_q = 0\n",
    "        self.area_under_b = 0\n",
    "    \n",
    "    def generate_inter_arrival(self):\n",
    "        return np.round(self.arrival_distribution(scale=self.arrival_rate), self.precision)\n",
    "    \n",
    "    def generate_service_time(self):\n",
    "        return np.round(self.service_distribution(scale=self.service_rate), self.precision)\n",
    "    \n",
    "    def update_area_under_b(self, next_time):\n",
    "        self.area_under_b += (next_time - self.clock) * self.server_status\n",
    "    \n",
    "    def update_area_under_q(self, next_time):\n",
    "        self.area_under_q += (next_time - self.clock) * len(self.queue)\n",
    "    \n",
    "    def update_waiting_time(self):\n",
    "        if len(self.queue) != 0:\n",
    "            self.total_waiting_time += self.next_departure - self.queue[0]\n",
    "        \n",
    "    def update_system_time(self):\n",
    "        if len(self.system) != 0:\n",
    "            self.total_system_time += self.next_departure - self.system[0]\n",
    "        \n",
    "    def arrival_handler(self):\n",
    "        self.clock = self.next_arrival_time\n",
    "        self.queue.append(self.next_arrival_time)\n",
    "        self.next_arrival_time = self.clock + self.generate_inter_arrival()\n",
    "        \n",
    "        if self.server_status == 0:\n",
    "            self.server_status = 1\n",
    "            self.system.append(self.queue[0])\n",
    "            self.queue = self.queue[1:]\n",
    "            self.next_departure = self.clock + self.generate_service_time()\n",
    "    \n",
    "    def departure_handler(self):\n",
    "        self.clock = self.next_departure\n",
    "        self.number_served += 1\n",
    "        \n",
    "        if len(self.queue) != 0:\n",
    "            self.system[0] = self.queue[0]\n",
    "            self.queue = self.queue[1:]\n",
    "            self.next_departure = self.clock + self.generate_service_time()\n",
    "        else:\n",
    "            self.next_departure = np.inf\n",
    "            self.server_status = 0\n",
    "            self.system = self.system[1:]\n",
    "       \n",
    "    def run(self):\n",
    "        self.next_arrival_time = self.generate_inter_arrival()\n",
    "        while self.number_served < n:\n",
    "            if self.next_arrival_time <= self.next_departure:\n",
    "                self.update_area_under_b(self.next_arrival_time)\n",
    "                self.update_area_under_q(self.next_arrival_time)\n",
    "                self.arrival_handler()\n",
    "            else:\n",
    "                self.update_area_under_b(self.next_departure)\n",
    "                self.update_area_under_q(self.next_departure)\n",
    "                self.update_waiting_time()\n",
    "                self.update_system_time()\n",
    "                self.departure_handler()\n",
    "            \n",
    "        self.report()\n",
    "        \n",
    "    def report(self):\n",
    "        mean_system_time = np.round(self.total_system_time / self.number_served, self.precision)\n",
    "        mean_waiting_time = np.round(self.total_waiting_time / self.number_served, self.precision)\n",
    "        mean_queue_length = np.round(self.area_under_q / self.clock, self.precision)\n",
    "        mean_utilization = np.round(self.area_under_b / self.clock, self.precision)\n",
    "        print(f'Customers served: {self.number_served}')\n",
    "        print(f'Expected mean system time: {mean_system_time}')\n",
    "        print(f'Expected mean waiting time: {mean_waiting_time}')\n",
    "        print(f'Expected queue lenght: {mean_queue_length}')\n",
    "        print(f'Expected utilisation: {mean_utilization}')"
   ]
  },
  {
   "cell_type": "code",
   "execution_count": 65,
   "id": "a27620f3-acf3-4b51-af7d-39b807673496",
   "metadata": {
    "tags": []
   },
   "outputs": [
    {
     "name": "stdout",
     "output_type": "stream",
     "text": [
      "Customers served: 30\n",
      "Expected mean system time: 0.241\n",
      "Expected mean waiting time: 0.113\n",
      "Expected queue lenght: 0.55\n",
      "Expected utilisation: 0.628\n"
     ]
    }
   ],
   "source": [
    "des = Simulation(n, arrival_distribution, arrival_rate, service_distribution, service_rate)\n",
    "des.run()"
   ]
  }
 ],
 "metadata": {
  "kernelspec": {
   "display_name": "Python 3 (ipykernel)",
   "language": "python",
   "name": "python3"
  },
  "language_info": {
   "codemirror_mode": {
    "name": "ipython",
    "version": 3
   },
   "file_extension": ".py",
   "mimetype": "text/x-python",
   "name": "python",
   "nbconvert_exporter": "python",
   "pygments_lexer": "ipython3",
   "version": "3.10.7"
  }
 },
 "nbformat": 4,
 "nbformat_minor": 5
}
